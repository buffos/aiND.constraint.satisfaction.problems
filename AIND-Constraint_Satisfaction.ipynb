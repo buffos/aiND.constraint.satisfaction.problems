{
 "cells": [
  {
   "cell_type": "markdown",
   "metadata": {
    "deletable": true,
    "editable": true
   },
   "source": [
    "# Constraint Satisfaction Problems Lab\n",
    "\n",
    "## Introduction\n",
    "Constraint Satisfaction is a technique for solving problems by expressing limits on the values of each variable in the solution with mathematical constraints.  We've used constraints before -- constraints in the Sudoku project are enforced implicitly by filtering the legal values for each box, and the planning project represents constraints as arcs connecting nodes in the planning graph -- but in this lab exercise we will use a symbolic math library to explicitly construct binary constraints and then use Backtracking to solve the N-queens problem (which is a generalization [8-queens problem](https://en.wikipedia.org/wiki/Eight_queens_puzzle)).  Using symbolic constraints should make it easier to visualize and reason about the constraints (especially for debugging), but comes with a performance penalty.\n",
    "\n",
    "![8-queens puzzle solution](EightQueens.gif)\n",
    "\n",
    "Briefly, the 8-queens problem asks you to place 8 queens on a standard 8x8 chessboard such that none of the queens are in \"check\" (i.e., no two queens occupy the same row, column, or diagonal). The N-queens problem generalizes the puzzle to to any size square board.\n",
    "\n",
    "## I. Lab Overview\n",
    "Students should read through the code and the wikipedia page (or other resources) to understand the N-queens problem, then:\n",
    "\n",
    "0. Complete the warmup exercises in the [Sympy_Intro notebook](Sympy_Intro.ipynb) to become familiar with they sympy library and symbolic representation for constraints\n",
    "0. Implement the [NQueensCSP class](#II.-Representing-the-N-Queens-Problem) to develop an efficient encoding of the N-queens problem and explicitly generate the constraints bounding the solution\n",
    "0. Write the [search functions](#III.-Backtracking-Search) for recursive backtracking, and use them to solve the N-queens problem\n",
    "0. (Optional) Conduct [additional experiments](#IV.-Experiments-%28Optional%29) with CSPs and various modifications to the search order (minimum remaining values, least constraining value, etc.)"
   ]
  },
  {
   "cell_type": "code",
   "execution_count": 1,
   "metadata": {
    "collapsed": false,
    "deletable": true,
    "editable": true
   },
   "outputs": [],
   "source": [
    "import matplotlib as mpl\n",
    "import matplotlib.pyplot as plt\n",
    "\n",
    "from util import constraint, displayBoard\n",
    "from sympy import *\n",
    "from IPython.display import display\n",
    "init_printing()\n",
    "%matplotlib inline"
   ]
  },
  {
   "cell_type": "code",
   "execution_count": 2,
   "metadata": {
    "collapsed": true
   },
   "outputs": [],
   "source": [
    "from functools import reduce\n",
    "def count_if(predicate, seq):\n",
    "    \"\"\"Count the number of elements of seq for which the predicate is true.\n",
    "    \"\"\"\n",
    "    f = lambda count, x: count + (not not predicate(x))\n",
    "    return reduce(f, seq, 0)\n",
    "\n",
    "def every(predicate, seq):\n",
    "    \"\"\"True if every element of seq satisfies predicate.\n",
    "    \"\"\"\n",
    "    for x in seq:\n",
    "        if not predicate(x): return False\n",
    "    return True"
   ]
  },
  {
   "cell_type": "markdown",
   "metadata": {
    "deletable": true,
    "editable": true
   },
   "source": [
    "## II. Representing the N-Queens Problem\n",
    "There are many acceptable ways to represent the N-queens problem, but one convenient way is to recognize that one of the constraints (either the row or column constraint) can be enforced implicitly by the encoding.  If we represent a solution as an array with N elements, then each position in the array can represent a column of the board, and the value at each position can represent which row the queen is placed on.\n",
    "\n",
    "In this encoding, we only need a constraint to make sure that no two queens occupy the same row, and one to make sure that no two queens occupy the same diagonal.\n",
    "\n",
    "### Define Symbolic Expressions for the Problem Constraints\n",
    "Before implementing the board class, we need to construct the symbolic constraints that will be used in the CSP.  Declare any symbolic terms required, and then declare two generic constraint generators:\n",
    "- `diffRow` - generate constraints that return True if the two arguments do not match\n",
    "- `diffDiag` - generate constraints that return True if two arguments are not on the same diagonal (Hint: you can easily test whether queens in two columns are on the same diagonal by testing if the difference in the number of rows and the number of columns match)\n",
    "\n",
    "Both generators should produce binary constraints (i.e., each should have two free symbols) once they're bound to specific variables in the CSP.  For example, Eq((a + b), (b + c)) is not a binary constraint, but Eq((a + b), (b + c)).subs(b, 1) _is_ a binary constraint because one of the terms has been bound to a constant, so there are only two free variables remaining. "
   ]
  },
  {
   "cell_type": "code",
   "execution_count": 3,
   "metadata": {
    "collapsed": false,
    "deletable": true,
    "editable": true
   },
   "outputs": [],
   "source": [
    "# Declare any required symbolic variables\n",
    "C = symbols('C:2') # X = (column_1, column_2) # the columns that are compared\n",
    "R = symbols('Y:2') # Y = (row_1, row_2) # the values of the columns that are compared\n",
    "\n",
    "# Define diffRow and diffDiag constraints\n",
    "diffRow  = constraint('different Rows', Ne(R[0], R[1]))\n",
    "diffDiag = constraint(\"different Diagonals\", Ne(Abs(C[0] - C[1]), Abs(R[0] - R[1])))\n",
    "# taking absolute values to take acount both left and right diagonals or going up and down"
   ]
  },
  {
   "cell_type": "code",
   "execution_count": 4,
   "metadata": {
    "collapsed": false,
    "deletable": true,
    "editable": true
   },
   "outputs": [
    {
     "name": "stdout",
     "output_type": "stream",
     "text": [
      "Passed all diffRow tests.\n",
      "Passed all diffDiag tests.\n"
     ]
    }
   ],
   "source": [
    "# Test diffRow and diffDiag\n",
    "_x = symbols(\"x:3\")\n",
    "\n",
    "# generate a diffRow instance for testing\n",
    "diffRow_test = diffRow.subs({ R[0]: _x[0], R[1]: _x[1]})\n",
    "\n",
    "assert(len(diffRow_test.free_symbols) == 2)\n",
    "assert(diffRow_test.subs({_x[0]: 0, _x[1]: 1}) == True)\n",
    "assert(diffRow_test.subs({_x[0]: 0, _x[1]: 0}) == False)\n",
    "assert(diffRow_test.subs({_x[0]: 0}) != False)  # partial assignment is not false\n",
    "print(\"Passed all diffRow tests.\")\n",
    "\n",
    "# generate a diffDiag instance for testing\n",
    "diffDiag_test = diffDiag.subs({C[0]: 0, C[1]: 2, R[0]:_x[0], R[1]:_x[2]})\n",
    "\n",
    "assert(len(diffDiag_test.free_symbols) == 2)\n",
    "assert(diffDiag_test.subs({_x[0]: 0, _x[2]: 2}) == False)\n",
    "assert(diffDiag_test.subs({_x[0]: 0, _x[2]: 0}) == True)\n",
    "assert(diffDiag_test.subs({_x[0]: 0}) != False)  # partial assignment is not false\n",
    "print(\"Passed all diffDiag tests.\")"
   ]
  },
  {
   "cell_type": "markdown",
   "metadata": {
    "deletable": true,
    "editable": true
   },
   "source": [
    "### The N-Queens CSP Class\n",
    "Implement the CSP class as described above, with constraints to make sure each queen is on a different row and different diagonal than every other queen, and a variable for each column defining the row that containing a queen in that column."
   ]
  },
  {
   "cell_type": "code",
   "execution_count": 5,
   "metadata": {
    "collapsed": false,
    "deletable": true,
    "editable": true
   },
   "outputs": [],
   "source": [
    "class NQueensCSP:\n",
    "    \"\"\"CSP representation of the N-queens problem\n",
    "    \n",
    "    Parameters\n",
    "    ----------\n",
    "    N : Integer\n",
    "        The side length of a square chess board to use for the problem, and\n",
    "        the number of queens that must be placed on the board\n",
    "    \"\"\"\n",
    "    def __init__(self, N, createConstrains=True):\n",
    "        _vars = symbols('q:{}'.format(N)) # q0:qN . q for queen\n",
    "        _domain = set(range(N)) # the posible values each variable can get\n",
    "        self.size = N\n",
    "        self.variables = _vars\n",
    "        self.domains = {v: _domain for v in _vars}\n",
    "        self._constraints = {x: set() for x in _vars}\n",
    "        self.use_forward_check = False\n",
    "        self.use_arc_consistency = False\n",
    "        self.select_most_constrained = False\n",
    "        self.order_by_least_constrained_value = False\n",
    "\n",
    "        # add constraints - for each pair of variables xi and xj, create\n",
    "        # a diffRow(xi, xj) and a diffDiag(xi, xj) instance, and add them\n",
    "        # to the self._constraints dictionary keyed to both xi and xj;\n",
    "        # (i.e., add them to both self._constraints[xi] and self._constraints[xj])\n",
    "        if createConstrains:\n",
    "            for i, queen_1 in enumerate(_vars[:-1]):\n",
    "                for queen_2 in _vars[i+1:]:\n",
    "                    # finding rows and columns for each of the columns in the problem\n",
    "                    column_1, column_2 = _vars.index(queen_1), _vars.index(queen_2)\n",
    "                    row_1, row_2 = queen_1, queen_2\n",
    "                    # creating the substritution dictionary\n",
    "                    subs_dict = {C[0]: column_1, C[1]: column_2, R[0]: row_1, R[1]: row_2}\n",
    "                    # creating the constraints\n",
    "                    rowConstraint = diffRow.subs(subs_dict)\n",
    "                    diagonalConstraint = diffDiag.subs(subs_dict)\n",
    "                    # applying the constraints to both queens\n",
    "                    self._constraints[queen_1].add(rowConstraint)\n",
    "                    self._constraints[queen_2].add(rowConstraint)\n",
    "                    self._constraints[queen_1].add(diagonalConstraint)\n",
    "                    self._constraints[queen_2].add(diagonalConstraint)\n",
    "                \n",
    "    def deepcopy(self):\n",
    "        newQueensCSP = NQueensCSP(self.size, createConstrains=False)\n",
    "        newQueensCSP.domains = {v: self.domains[v].copy() for v in newQueensCSP.variables}\n",
    "        newQueensCSP._constraints = self._constraints\n",
    "        newQueensCSP.use_forward_check = self.use_forward_check\n",
    "        newQueensCSP.use_arc_consistency = self.use_arc_consistency\n",
    "        newQueensCSP.select_most_constrained = self.select_most_constrained\n",
    "        newQueensCSP.order_by_least_constrained_value = self.order_by_least_constrained_value\n",
    "        return newQueensCSP\n",
    "    \n",
    "    @property\n",
    "    def constraints(self):\n",
    "        \"\"\"Read-only list of constraints -- cannot be used for evaluation \"\"\"\n",
    "        constraints = set()\n",
    "        for _cons in self._constraints.values():\n",
    "            constraints |= _cons\n",
    "        return list(constraints)\n",
    "    \n",
    "    \n",
    "    def neighbors(self, variable):\n",
    "        return [v for v in self.variables if v!=variable]\n",
    "    \n",
    "    \n",
    "    def is_complete(self, assignment):\n",
    "        \"\"\"An assignment is complete if it is consistent, and all constraints\n",
    "        are satisfied.\n",
    "        \n",
    "        Hint: Backtracking search checks consistency of each assignment, so checking\n",
    "        for completeness can be done very efficiently\n",
    "        \n",
    "        Parameters\n",
    "        ----------\n",
    "        assignment : dict(sympy.Symbol: Integer)\n",
    "            An assignment of values to variables that have previously been checked\n",
    "            for consistency with the CSP constraints\n",
    "        \"\"\"\n",
    "        # no need to check for consistency\n",
    "        if len(assignment.items()) != self.size:\n",
    "            return False\n",
    "        return True\n",
    "    \n",
    "    def nconflicts(self, var, value, assignment):\n",
    "        \"\"\"Counts the number of conlicts var=value will cause\"\"\"\n",
    "        def conflicts_with(var2):\n",
    "            val2 = assignment.get(var2, None)\n",
    "            return val2 != None and self.is_consistent(var, value, {var2: val2})\n",
    "        return count_if(conflicts_with, self.variables)\n",
    "    \n",
    "    \n",
    "    def are_consistent(self, var1, val1, var2, val2):\n",
    "        \"\"\"Binary constraint check between two variable\"\"\"\n",
    "        return self.is_consistent(var1, val1, {var2: val2})\n",
    "    \n",
    "\n",
    "    def is_consistent(self, var, value, assignment):\n",
    "        \"\"\"Check consistency of a proposed variable assignment\n",
    "                \n",
    "        self._constraints[x] returns a set of constraints that involve variable `x`.\n",
    "        An assignment is consistent unless the assignment it causes a constraint to\n",
    "        return False (partial assignments are always consistent).\n",
    "        \n",
    "        Parameters\n",
    "        ----------\n",
    "        var : sympy.Symbol\n",
    "            One of the symbolic variables in the CSP\n",
    "            \n",
    "        value : Numeric\n",
    "            A valid value (i.e., in the domain of) the variable `var` for assignment\n",
    "\n",
    "        assignment : dict(sympy.Symbol: Integer)\n",
    "            A dictionary mapping CSP variables to row assignment of each queen\n",
    "            \n",
    "        \"\"\"\n",
    "        consistent = True\n",
    "        updated_assignments = dict(assignment)\n",
    "        updated_assignments.update({var: value}) # new dictionary with the new assignment included\n",
    "        \n",
    "        for constraint in self._constraints[var]: # for all the variable constraints\n",
    "            # evaluate using the updated dictionary\n",
    "            constraint_eval = constraint.subs(updated_assignments)\n",
    "            if len(constraint_eval.free_symbols) == 0:\n",
    "                consistent &= constraint_eval\n",
    "                \n",
    "        return consistent\n",
    "    \n",
    "    def forward_check(self, var, value, assignment):\n",
    "        \"\"\"Forward checking (domain reduction). It will prune the domain values\n",
    "        This is why we create a copy of the board to pass at the next step to avoid\n",
    "        bookeeping of the domains. This is not memory efficient. To avoid that we can create\n",
    "        a function to undo domain pruning\n",
    "        \"\"\"       \n",
    "        not_assigned_variables = [v for v in self.neighbors(var) if not assignment.get(v, None)]\n",
    "        for var_2 in not_assigned_variables:\n",
    "            new_domain = self.domains[var_2].copy() # cannot remove from set during iteration so create a copy\n",
    "            for value_2 in self.domains[var_2]: # for all variables that are allowed\n",
    "                if not self.are_consistent(var, value, var_2, value_2): # if the values for var_2 are not consistent\n",
    "                    new_domain.remove(value_2) # we remove them from the available in domain\n",
    "            self.domains[var_2] = new_domain\n",
    "            \n",
    "    def remove_inconsistent_values(self, var_x, var_y):\n",
    "        \"\"\"Returns true if a value is removed\"\"\"\n",
    "        removed = False\n",
    "        newDomainForX = self.domains[var_x].copy()\n",
    "        for x in self.domains[var_x]:\n",
    "            if every(lambda y: not self.are_consistent(var_x, x, var_y, y), self.domains[var_y]):\n",
    "                # if varX=x conflicts with every value y for varY, remove x \n",
    "                newDomainForX.remove(x)\n",
    "                removed = True\n",
    "        if removed:\n",
    "            self.domains[var_x] = newDomainForX\n",
    "        return removed\n",
    "    \n",
    "    def arc_consistency_check(self, queue=None):\n",
    "        if queue == None:\n",
    "            queue = [(X, Y) for X in self.variables for Y in self.neighbors(X)]\n",
    "            # X is tail Y is front. always delete from tail\n",
    "        while queue:\n",
    "            X, Y = queue.pop()\n",
    "            if self.remove_inconsistent_values(X, Y): # add back with X front\n",
    "                for Z in self.neighbors(X):\n",
    "                    queue.append((Z, X))\n",
    "        \n",
    "        \n",
    "    def inference(self, var, value):\n",
    "        \"\"\"Perform logical inference based on proposed variable assignment\n",
    "        \n",
    "        Returns an empty dictionary by default; function can be overridden to\n",
    "        check arc-, path-, or k-consistency; returning None signals \"failure\".\n",
    "        \n",
    "        Parameters\n",
    "        ----------\n",
    "        var : sympy.Symbol\n",
    "            One of the symbolic variables in the CSP\n",
    "        \n",
    "        value : Integer\n",
    "            A valid value (i.e., in the domain of) the variable `var` for assignment\n",
    "            \n",
    "        Returns\n",
    "        -------\n",
    "        dict(sympy.Symbol: Integer) or None\n",
    "            A partial set of values mapped to variables in the CSP based on inferred\n",
    "            constraints from previous mappings, or None to indicate failure\n",
    "        \"\"\"\n",
    "        # TODO (Optional): Implement this function based on AIMA discussion\n",
    "        return {}\n",
    "    \n",
    "    def show(self, assignment):\n",
    "        \"\"\"Display a chessboard with queens drawn in the locations specified by an\n",
    "        assignment\n",
    "        \n",
    "        Parameters\n",
    "        ----------\n",
    "        assignment : dict(sympy.Symbol: Integer)\n",
    "            A dictionary mapping CSP variables to row assignment of each queen\n",
    "            \n",
    "        \"\"\"\n",
    "        print(\"Assignment\",assignment)\n",
    "        locations = [(i, assignment[j]) for i, j in enumerate(self.variables)\n",
    "                     if assignment.get(j, None) is not None]\n",
    "        displayBoard(locations, self.size)"
   ]
  },
  {
   "cell_type": "markdown",
   "metadata": {},
   "source": [
    "### Testing N-Queens CSP Class"
   ]
  },
  {
   "cell_type": "code",
   "execution_count": 6,
   "metadata": {
    "collapsed": false
   },
   "outputs": [
    {
     "name": "stdout",
     "output_type": "stream",
     "text": [
      "Assignment {q0: 2, q1: 0, q2: 3, q3: 1}\n"
     ]
    },
    {
     "data": {
      "image/png": "[encoded data removed]",
      "text/plain": [
       "<matplotlib.figure.Figure at 0x1fbce259eb8>"
      ]
     },
     "metadata": {},
     "output_type": "display_data"
    }
   ],
   "source": [
    "import numpy.random as random\n",
    "\n",
    "num_queens = 4\n",
    "queen_test = NQueensCSP(num_queens)\n",
    "variables_test = queen_test.variables\n",
    "random_queen = queen_test.variables[random.choice(num_queens)]\n",
    "first_column_queen = queen_test.variables[0]\n",
    "second_column_queen = queen_test.variables[1]\n",
    "copyCSP = queen_test.deepcopy()\n",
    "\n",
    "solution_test = {    \n",
    "    queen_test.variables[0]: 2,\n",
    "    queen_test.variables[1]: 0,\n",
    "    queen_test.variables[2]: 3,\n",
    "    queen_test.variables[3]: 1}\n",
    "\n",
    "no_solution_test = {\n",
    "    queen_test.variables[0]: 0,\n",
    "    queen_test.variables[1]: 1,\n",
    "    queen_test.variables[2]: 3,\n",
    "    queen_test.variables[3]: 0}\n",
    "\n",
    "queen_test.show(solution_test) # test show is working\n",
    "\n",
    "assert(queen_test.nconflicts(first_column_queen, 0, no_solution_test) == 2) # number of conflict count\n",
    "assert(len(queen_test.variables) == num_queens)\n",
    "assert(queen_test.domains[random_queen] == {0, 1, 2, 3}) # correct domain\n",
    "assert(len(queen_test._constraints[random_queen]) == (num_queens - 1) * 2) # correct number of constrains\n",
    "# completness checks\n",
    "assert(queen_test.is_complete({}) == False)\n",
    "assert(queen_test.is_complete({random_queen: 1}) == False)\n",
    "assert(queen_test.is_complete(solution_test) == True)\n",
    "# consistency checks\n",
    "assert(queen_test.is_consistent(random_queen, 0, {}) == True)\n",
    "assert(queen_test.is_consistent(first_column_queen, 0, {second_column_queen: 0}) == False) # row violation\n",
    "assert(queen_test.is_consistent(first_column_queen, 0, {second_column_queen: 1}) == False) # diagonal violation\n",
    "assert(queen_test.is_consistent(first_column_queen, 0, {second_column_queen: 2}) == True) # no violation\n",
    "# deepcopy works\n",
    "assert(queen_test.domains == copyCSP.domains)\n",
    "\n",
    "# forward checking\n",
    "queen_test.forward_check(first_column_queen, 0, {})\n",
    "assert(queen_test.domains[queen_test.variables[1]] == {2,3})\n",
    "assert(queen_test.domains[queen_test.variables[2]] == {1,3})\n",
    "assert(queen_test.domains[queen_test.variables[3]] == {1,2})"
   ]
  },
  {
   "cell_type": "markdown",
   "metadata": {
    "collapsed": true,
    "deletable": true,
    "editable": true
   },
   "source": [
    "## III. Backtracking Search\n",
    "Implement the [backtracking search](https://github.com/aimacode/aima-pseudocode/blob/master/md/Backtracking-Search.md) algorithm (required) and helper functions (optional) from the AIMA text.  "
   ]
  },
  {
   "cell_type": "code",
   "execution_count": 7,
   "metadata": {
    "collapsed": false
   },
   "outputs": [],
   "source": [
    "def select_naive(csp, assignment): # First unassigned variable\n",
    "    for var in csp.variables:\n",
    "        if var not in assignment:\n",
    "            return var\n",
    "    return None\n",
    "\n",
    "def select_most_constrained_variable(csp, assignment): # Most Constrained Variable\n",
    "    from collections import defaultdict\n",
    "\n",
    "    unassigned = [v for v in csp.variables if v not in assignment]\n",
    "    domainSizes = defaultdict(list)\n",
    "    for v in unassigned:\n",
    "        domainSizes[len(csp.domains[v])].append(v)\n",
    "    smallerSize = min(domainSizes.keys()) # the smallest entry in the dictionary\n",
    "    return domainSizes[smallerSize][0]  # the first element from the list of variables with that size\n",
    "\n",
    "def order_naive(var, assignment, csp):\n",
    "    return csp.domains[var]\n",
    "\n",
    "def order_less_constrained_value(var, assignment, csp):\n",
    "    # values with fewer conflicts\n",
    "    key = lambda value: csp.nconflicts(var, value, assignment)\n",
    "    return sorted(csp.domains[var], key=key)\n",
    "    "
   ]
  },
  {
   "cell_type": "code",
   "execution_count": 36,
   "metadata": {
    "collapsed": false,
    "deletable": true,
    "editable": true
   },
   "outputs": [],
   "source": [
    "def select(csp, assignment):\n",
    "    \"\"\"Choose an unassigned variable in a constraint satisfaction problem \"\"\"\n",
    "    # TODO (Optional): Implement a more sophisticated selection routine from AIMA\n",
    "    if csp.select_most_constrained:\n",
    "        return select_most_constrained_variable(csp, assignment)\n",
    "    else:\n",
    "        return select_naive(csp, assignment)\n",
    "\n",
    "\n",
    "def order_values(var, assignment, csp):\n",
    "    \"\"\"Select the order of the values in the domain of a variable for checking during search;\n",
    "    the default is lexicographically.\n",
    "    \"\"\"\n",
    "    # TODO (Optional): Implement a more sophisticated search ordering routine from AIMA\n",
    "    if csp.order_by_least_constrained_value:\n",
    "        return order_less_constrained_value(var, assignment, csp)\n",
    "    else:\n",
    "        return order_naive(var, assignment, csp)\n",
    "\n",
    "def backtracking_search(csp):\n",
    "    \"\"\"Helper function used to initiate backtracking search \"\"\"\n",
    "    return backtrack({}, csp)\n",
    "\n",
    "def backtrack(assignment, csp):\n",
    "    \"\"\"Perform backtracking search for a valid assignment to a CSP\n",
    "    \n",
    "    Parameters\n",
    "    ----------\n",
    "    assignment : dict(sympy.Symbol: Integer)\n",
    "        An partial set of values mapped to variables in the CSP\n",
    "        \n",
    "    csp : CSP\n",
    "        A problem encoded as a CSP. Interface should include csp.variables, csp.domains,\n",
    "        csp.inference(), csp.is_consistent(), and csp.is_complete().\n",
    "    \n",
    "    Returns\n",
    "    -------\n",
    "    dict(sympy.Symbol: Integer) or None\n",
    "        A partial set of values mapped to variables in the CSP, or None to indicate failure\n",
    "    \"\"\"\n",
    "    if csp.is_complete(assignment):\n",
    "        return assignment\n",
    "    \n",
    "    newQueen = select(csp, assignment)\n",
    "    for value in order_values(newQueen, assignment, csp):\n",
    "        # print('before check for column {} select value {}'.format(csp.variables.index(newQueen), value))\n",
    "        # print('assignment is: ', assignment)\n",
    "        if csp.is_consistent(newQueen, value, assignment):\n",
    "            # print('for column {} select value {}'.format(csp.variables.index(newQueen), value))\n",
    "            assignment[newQueen] = value\n",
    "            newBoard = csp.deepcopy() # needed when doing inference to keep track of domain restrictions\n",
    "            \n",
    "            # prune with forward check\n",
    "            if newBoard.use_forward_check: \n",
    "                newBoard.forward_check(newQueen, value, assignment)\n",
    "            if newBoard.use_arc_consistency and len([v for v in csp.variables if v not in assignment])<0.1*csp.size:\n",
    "                newBoard.arc_consistency_check([(X, newQueen) for X in newBoard.neighbors(newQueen)])\n",
    "            result = backtrack(assignment, newBoard)\n",
    "            # print('result: {} for assignment {}'.format(result, assignment))\n",
    "            if result != None:\n",
    "                return result # else next value in the loop\n",
    "            del assignment[newQueen] # delete from the assignments the Queen\n",
    "            "
   ]
  },
  {
   "cell_type": "markdown",
   "metadata": {
    "deletable": true,
    "editable": true
   },
   "source": [
    "### Solve the CSP\n",
    "With backtracking implemented, now you can use it to solve instances of the problem. We've started with the classical 8-queen version, but you can try other sizes as well.  Boards larger than 12x12 may take some time to solve because sympy is slow in the way its being used here, and because the selection and value ordering methods haven't been implemented.  See if you can implement any of the techniques in the AIMA text to speed up the solver!"
   ]
  },
  {
   "cell_type": "code",
   "execution_count": 37,
   "metadata": {
    "collapsed": true
   },
   "outputs": [],
   "source": [
    "num_queens = 16\n",
    "csp = NQueensCSP(num_queens)\n",
    "csp.use_forward_check = True\n",
    "csp.use_arc_consistency = True\n",
    "csp.select_most_constrained = True\n",
    "csp.order_by_less_constrained_value = True"
   ]
  },
  {
   "cell_type": "code",
   "execution_count": 38,
   "metadata": {
    "collapsed": false
   },
   "outputs": [
    {
     "name": "stdout",
     "output_type": "stream",
     "text": [
      "CSP problems have variables, each variable has a domain, and the problem has a list of constraints.\n",
      "Showing the variables for the N-Queens CSP:\n"
     ]
    },
    {
     "data": {
      "image/png": "[encoded data removed]",
      "text/latex": [
       "$$\\left ( q_{0}, \\quad q_{1}, \\quad q_{2}, \\quad q_{3}, \\quad q_{4}, \\quad q_{5}, \\quad q_{6}, \\quad q_{7}, \\quad q_{8}, \\quad q_{9}, \\quad q_{10}, \\quad q_{11}, \\quad q_{12}, \\quad q_{13}, \\quad q_{14}, \\quad q_{15}\\right )$$"
      ],
      "text/plain": [
       "(q₀, q₁, q₂, q₃, q₄, q₅, q₆, q₇, q₈, q₉, q₁₀, q₁₁, q₁₂, q₁₃, q₁₄, q₁₅)"
      ]
     },
     "metadata": {},
     "output_type": "display_data"
    },
    {
     "name": "stdout",
     "output_type": "stream",
     "text": [
      "Showing domain for q0:\n"
     ]
    },
    {
     "data": {
      "image/png": "[encoded data removed]",
      "text/latex": [
       "$$\\left\\{0, 1, 2, 3, 4, 5, 6, 7, 8, 9, 10, 11, 12, 13, 14, 15\\right\\}$$"
      ],
      "text/plain": [
       "set([0, 1, 2, 3, 4, 5, 6, 7, 8, 9, 10, 11, 12, 13, 14, 15])"
      ]
     },
     "metadata": {},
     "output_type": "display_data"
    }
   ],
   "source": [
    "var = csp.variables[0]\n",
    "print(\"CSP problems have variables, each variable has a domain, and the problem has a list of constraints.\")\n",
    "print(\"Showing the variables for the N-Queens CSP:\")\n",
    "display(csp.variables)\n",
    "print(\"Showing domain for {}:\".format(var))\n",
    "display(csp.domains[var])\n",
    "#print(\"And showing the constraints for {}:\".format(var))\n",
    "#display(csp._constraints[var])"
   ]
  },
  {
   "cell_type": "code",
   "execution_count": 39,
   "metadata": {
    "collapsed": false,
    "deletable": true,
    "editable": true
   },
   "outputs": [
    {
     "name": "stdout",
     "output_type": "stream",
     "text": [
      "Solving N-Queens CSP...\n",
      "Finished in 33.944056272506714 sec\n",
      "Assignment {q0: 0, q1: 2, q2: 4, q5: 3, q7: 6, q12: 5, q10: 1, q9: 13, q8: 15, q13: 8, q11: 7, q14: 11, q15: 9, q3: 12, q4: 10, q6: 14}\n"
     ]
    },
    {
     "data": {
      "image/png": "[encoded data removed]",
      "text/plain": [
       "<matplotlib.figure.Figure at 0x1fbcebe8c18>"
      ]
     },
     "metadata": {},
     "output_type": "display_data"
    },
    {
     "name": "stdout",
     "output_type": "stream",
     "text": [
      "Solution found:\n",
      "{q0: 0, q1: 2, q2: 4, q5: 3, q7: 6, q12: 5, q10: 1, q9: 13, q8: 15, q13: 8, q11: 7, q14: 11, q15: 9, q3: 12, q4: 10, q6: 14}\n"
     ]
    }
   ],
   "source": [
    "print(\"Solving N-Queens CSP...\")\n",
    "\n",
    "import time\n",
    "timestart = time.time()\n",
    "assn = backtracking_search(csp)\n",
    "timeend = time.time()\n",
    "print(\"Finished in {} sec\".format(timeend-timestart))\n",
    "if assn is not None:\n",
    "    csp.show(assn)\n",
    "    print(\"Solution found:\\n{!s}\".format(assn))\n",
    "else:\n",
    "    print(\"No solution found.\")"
   ]
  },
  {
   "cell_type": "markdown",
   "metadata": {
    "deletable": true,
    "editable": true
   },
   "source": [
    "## IV. Experiments (Optional)\n",
    "For each optional experiment, discuss the answers to these questions on the forum: Do you expect this change to be more efficient, less efficient, or the same?  Why or why not?  Is your prediction correct?  What metric did you compare (e.g., time, space, nodes visited, etc.)?\n",
    "\n",
    "- Implement a _bad_ N-queens solver: generate & test candidate solutions one at a time until a valid solution is found.  For example, represent the board as an array with $N^2$ elements, and let each element be True if there is a queen in that box, and False if it is empty.  Use an $N^2$-bit counter to generate solutions, then write a function to check if each solution is valid.  Notice that this solution doesn't require any of the techniques we've applied to other problems -- there is no DFS or backtracking, nor constraint propagation, or even explicitly defined variables.\n",
    "- Use more complex constraints -- i.e., generalize the binary constraint RowDiff to an N-ary constraint AllRowsDiff, etc., -- and solve the problem again.\n",
    "- Rewrite the CSP class to use forward checking to restrict the domain of each variable as new values are assigned.\n",
    "- The sympy library isn't very fast, so this version of the CSP doesn't work well on boards bigger than about 12x12.  Write a new representation of the problem class that uses constraint functions (like the Sudoku project) to implicitly track constraint satisfaction through the restricted domain of each variable.  How much larger can you solve?\n",
    "- Create your own CSP!"
   ]
  },
  {
   "cell_type": "code",
   "execution_count": null,
   "metadata": {
    "collapsed": true
   },
   "outputs": [],
   "source": []
  }
 ],
 "metadata": {
  "anaconda-cloud": {},
  "kernelspec": {
   "display_name": "Python 3",
   "language": "python",
   "name": "python3"
  },
  "language_info": {
   "codemirror_mode": {
    "name": "ipython",
    "version": 3
   },
   "file_extension": ".py",
   "mimetype": "text/x-python",
   "name": "python",
   "nbconvert_exporter": "python",
   "pygments_lexer": "ipython3",
   "version": "3.6.0"
  }
 },
 "nbformat": 4,
 "nbformat_minor": 1
}
